{
 "cells": [
  {
   "cell_type": "markdown",
   "metadata": {
    "deletable": true,
    "editable": true
   },
   "source": [
    "# A simple example for logistic regression\n",
    "This notebook calculates a logistic regression using TensorFlow. It's basically meant to show the principles of TensorFlow.\n",
    "\n",
    "## Datset\n",
    "\n",
    "We investigate the data set of the challenger flight with broken O-rings (Y=1) vs start temperature."
   ]
  },
  {
   "cell_type": "code",
   "execution_count": null,
   "metadata": {
    "collapsed": false,
    "deletable": true,
    "editable": true
   },
   "outputs": [],
   "source": [
    "%matplotlib inline\n",
    "import numpy as np\n",
    "import tensorflow as tf\n",
    "import matplotlib.pyplot as plt\n",
    "import matplotlib.image as imgplot\n",
    "import numpy as np\n",
    "import pandas as pd\n",
    "import tempfile\n",
    "data = np.asarray(pd.read_csv('../data/challenger.txt', sep=','), dtype='float32')\n",
    "plt.plot(data[:,0], data[:,1], 'o')\n",
    "plt.axis([40, 85, -0.1, 1.2])\n",
    "plt.xlabel('Temperature [F]')\n",
    "plt.ylabel('Broken O-rings')"
   ]
  },
  {
   "cell_type": "code",
   "execution_count": null,
   "metadata": {
    "collapsed": false,
    "deletable": true,
    "editable": true
   },
   "outputs": [],
   "source": [
    "y_values = data[:,1]"
   ]
  },
  {
   "cell_type": "markdown",
   "metadata": {
    "deletable": true,
    "editable": true
   },
   "source": [
    "## Mathematical Notes\n",
    "We are considering the likelihood $p(y_i=1|x_i)$ for the class $y_i=1$ given the $i-$th data point $x_i$ ($x_i$ could be a vector). This is given by:\n",
    "$\n",
    "p(y_i=1 | x_i) = \\frac{e^{(b + W' x_i)}}{1 + e^{(b + W' x_i)}} = [1 + e^{-(b + W' x_i)}]^{-1}\n",
    "$\n",
    "\n",
    "If we have more than one data point, which we usually do, we have to apply the equation above to each of the N data points. In this case we can used a vectorized version with $x=(x_1,x_2,\\ldots,x_N)$ and $y=(y_1,y_2,\\ldots,y_N$)"
   ]
  },
  {
   "cell_type": "markdown",
   "metadata": {
    "deletable": true,
    "editable": true
   },
   "source": [
    "### Numpy code\n",
    "This numpy code, shows the calculation for one value using numpy (like a single forward pass)"
   ]
  },
  {
   "cell_type": "code",
   "execution_count": null,
   "metadata": {
    "collapsed": false,
    "deletable": true,
    "editable": true
   },
   "outputs": [],
   "source": [
    "# Data\n",
    "N = len(data)\n",
    "x = data[:,0]\n",
    "y = data[:,1]\n",
    "# Initial Value for the weights\n",
    "w = -0.20\n",
    "b = 20.0\n",
    "# Log-Likelihood \n",
    "p_1 = 1 / (1 + np.exp(-x*w - b))\n",
    "like = y * np.log(p_1) + (1-y) * np.log(1-p_1)\n",
    "print(-np.mean(like))\n",
    "print(np.round(p_1,3))"
   ]
  },
  {
   "cell_type": "markdown",
   "metadata": {
    "deletable": true,
    "editable": true
   },
   "source": [
    "## Better values from intuition"
   ]
  },
  {
   "cell_type": "code",
   "execution_count": null,
   "metadata": {
    "collapsed": false,
    "deletable": true,
    "editable": true
   },
   "outputs": [],
   "source": [
    "w_val = -1\n",
    "b_val = #### write your b value here\n",
    "plt.plot(data[:,0], data[:,1], 'o')\n",
    "plt.axis([40, 85, -0.1, 1.2])\n",
    "x_pred = np.linspace(40,85)\n",
    "x_pred = np.resize(x_pred,[len(x_pred),1])\n",
    "y_pred = 1 / (1 + np.exp(-x_pred*w_val - b_val))\n",
    "plt.plot(x_pred, y_pred)\n",
    "\n",
    "p_1 = 1 / (1 + np.exp(-x*w_val - b_val))\n",
    "like = y * np.log(p_1) + (1-y) * np.log(1-p_1)\n",
    "print(-np.mean(like))\n",
    "print(np.round(p_1,3))"
   ]
  },
  {
   "cell_type": "markdown",
   "metadata": {
    "deletable": true,
    "editable": true
   },
   "source": [
    "### Tensorflow Code (forward pass)"
   ]
  },
  {
   "cell_type": "code",
   "execution_count": null,
   "metadata": {
    "collapsed": false,
    "deletable": true,
    "editable": true
   },
   "outputs": [],
   "source": [
    "import tensorflow as tf\n",
    "tf.reset_default_graph() #Just to be sure to start with an empty graph\n",
    "\n",
    "x = tf.placeholder('float32', [N], name='x_data')\n",
    "y = tf.placeholder('float32', [N], name='y_data')\n",
    "# Initial weights with initial values\n",
    "w = tf.Variable(-1.0, name = 'w') \n",
    "b = tf.Variable(65.0, name = 'b')\n",
    "\n",
    "init_op = tf.global_variables_initializer() \n",
    "p_1 = 1 / (1 + tf.exp(-x*w - b))\n",
    "like = y * tf.log(p_1) + (1-y) * tf.log(1-p_1)\n",
    "loss = -tf.reduce_mean(like) #<----- All up to now is a symbolic definition of a graph\n",
    "with tf.Session() as sess:\n",
    "    sess.run(init_op) #Doing the initialization on the concrete realization of the graph\n",
    "    loss_, p_1_val = sess.run(fetches = (loss, p_1), feed_dict={x:data[:,0], y:data[:,1]})\n",
    "    print(loss_)\n",
    "    print(p_1_val)"
   ]
  },
  {
   "cell_type": "markdown",
   "metadata": {
    "deletable": true,
    "editable": true
   },
   "source": [
    "### Better values with gradient descent\n"
   ]
  },
  {
   "cell_type": "code",
   "execution_count": null,
   "metadata": {
    "collapsed": false,
    "deletable": true,
    "editable": true
   },
   "outputs": [],
   "source": [
    "train_op = tf.train.GradientDescentOptimizer(0.001).minimize(loss)\n",
    "#train_op = tf.train.AdagradOptimizer(0.1).minimize(loss)\n",
    "with tf.Session() as sess:\n",
    "    sess.run(init_op) #Doing the initialization on the concrete realization of the graph\n",
    "    for i in range(1000):\n",
    "         = sess.run(fetches=(), feed_dict={x:data[:,0], y:data[:,1]})#fetch your data here\n",
    "        if (i % 100 == 0):\n",
    "            print(\"i={} loss={}\".format(i,loss_))"
   ]
  },
  {
   "cell_type": "markdown",
   "metadata": {
    "deletable": true,
    "editable": true
   },
   "source": [
    "### Storing of the graph"
   ]
  },
  {
   "cell_type": "code",
   "execution_count": null,
   "metadata": {
    "collapsed": false,
    "deletable": true,
    "editable": true
   },
   "outputs": [],
   "source": [
    "with tf.Session() as sess:\n",
    "    sess.run(init_op)\n",
    "    writer = tf.summary.FileWriter(\"/tmp/Challenger\", sess.graph) #<--- Where to store"
   ]
  },
  {
   "cell_type": "markdown",
   "metadata": {
    "collapsed": false,
    "deletable": true,
    "editable": true
   },
   "source": [
    "### Performance can be visualized in Tensorboard\n",
    "\n",
    "The performance can be visualized in Tensorboard. \n",
    "```\n",
    "    tensorboard --logdir /tmp/ --port 8081\n",
    "```\n",
    "and open a browser at\n",
    "http://localhost:8081"
   ]
  }
 ],
 "metadata": {
  "kernelspec": {
   "display_name": "Python 3",
   "language": "python",
   "name": "python3"
  },
  "language_info": {
   "codemirror_mode": {
    "name": "ipython",
    "version": 3
   },
   "file_extension": ".py",
   "mimetype": "text/x-python",
   "name": "python",
   "nbconvert_exporter": "python",
   "pygments_lexer": "ipython3",
   "version": "3.4.3"
  }
 },
 "nbformat": 4,
 "nbformat_minor": 0
}

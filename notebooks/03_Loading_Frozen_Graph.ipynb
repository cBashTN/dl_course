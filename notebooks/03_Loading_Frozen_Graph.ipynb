{
 "cells": [
  {
   "cell_type": "code",
   "execution_count": null,
   "metadata": {
    "collapsed": true,
    "deletable": true,
    "editable": true
   },
   "outputs": [],
   "source": [
    "import numpy as np\n",
    "import time \n",
    "import tensorflow as tf\n",
    "import scipy.misc\n",
    "%matplotlib inline\n",
    "import matplotlib.pyplot as plt"
   ]
  },
  {
   "cell_type": "markdown",
   "metadata": {
    "deletable": true,
    "editable": true
   },
   "source": [
    "## Loading a frozen graph\n",
    "\n",
    "The following code shows how to load a frozen graph. The particular example is art style transfer in a feed-forward network, as descriped in https://arxiv.org/abs/1603.03417. In this network an image is transformed in a painting of a particular style in a single pass. The model has been taken from [here](http://dmitryulyanov.github.io/feed-forward-neural-doodle/) where you can also find more links concerning the theoretcal background. The transformation of the network from Lua to TensorFlow is part of an on going project thesis. A link explaining details will follow once the work is finished. "
   ]
  },
  {
   "cell_type": "code",
   "execution_count": null,
   "metadata": {
    "collapsed": false,
    "deletable": true,
    "editable": true
   },
   "outputs": [],
   "source": [
    "# Downloading the model, if it does not exist\n",
    "import urllib\n",
    "import os\n",
    "if not os.path.isfile('texture_net_frozen.pb'):\n",
    "    urllib.request.urlretrieve(\n",
    "    \"https://dl.dropboxusercontent.com/u/9154523/models/texture_net/texture_net_frozen.pb\",\n",
    "    \"texture_net_frozen.pb\")\n",
    "%ls -hl texture_net_frozen.pb"
   ]
  },
  {
   "cell_type": "markdown",
   "metadata": {
    "deletable": true,
    "editable": true
   },
   "source": [
    "We first load a content image, which we will feed through the network applying style transfer."
   ]
  },
  {
   "cell_type": "code",
   "execution_count": null,
   "metadata": {
    "collapsed": false,
    "deletable": true,
    "editable": true
   },
   "outputs": [],
   "source": [
    "content_image = scipy.misc.imread('bigstock-Standard-Poodle-7733433.jpg')\n",
    "plt.imshow(content_image)\n",
    "content_image = content_image.astype(np.float)"
   ]
  },
  {
   "cell_type": "markdown",
   "metadata": {
    "deletable": true,
    "editable": true
   },
   "source": [
    "### Loading from a frozen graph\n",
    "\n",
    "The network including the weight has been frozen using the following code:\n",
    "```\n",
    "    graph = tf.get_default_graph()\n",
    "    input_graph_def = graph.as_graph_def()\n",
    "    from tensorflow.python.framework import graph_util\n",
    "    # The output node names are used to determine which \n",
    "    # part of the graph needs to be frozen.\n",
    "    output_node_names = \"deprocessing/concat\"\n",
    "    output_graph_def = graph_util.convert_variables_to_constants(\n",
    "            sess, # The session is used to retrieve the weights\n",
    "            input_graph_def, # The graph_def is used to retrieve the nodes\n",
    "            output_node_names.split(\",\") \n",
    "        )\n",
    "    \n",
    "    with tf.gfile.GFile('model/textur_net_frozen.pb', \"wb\") as f:\n",
    "        f.write(output_graph_def.SerializeToString())\n",
    "    print(\"%d ops in the final graph.\" % len(output_graph_def.node))\n",
    "```"
   ]
  },
  {
   "cell_type": "code",
   "execution_count": null,
   "metadata": {
    "collapsed": false,
    "deletable": true,
    "editable": true
   },
   "outputs": [],
   "source": [
    "with tf.gfile.GFile('texture_net_frozen.pb', \"rb\") as f:\n",
    "    graph_def = tf.GraphDef()\n",
    "    graph_def.ParseFromString(f.read())"
   ]
  },
  {
   "cell_type": "code",
   "execution_count": null,
   "metadata": {
    "collapsed": true,
    "deletable": true,
    "editable": true
   },
   "outputs": [],
   "source": [
    "tf.reset_default_graph()\n",
    "graph = tf.Graph().as_default() \n",
    "tf.import_graph_def(graph_def,  name='')"
   ]
  },
  {
   "cell_type": "code",
   "execution_count": null,
   "metadata": {
    "collapsed": false,
    "deletable": true,
    "editable": true
   },
   "outputs": [],
   "source": [
    "writer = tf.summary.FileWriter(\"/tmp/Frozen_Graph/\",tf.get_default_graph())\n",
    "writer.close()"
   ]
  },
  {
   "cell_type": "code",
   "execution_count": null,
   "metadata": {
    "collapsed": false,
    "deletable": true,
    "editable": true
   },
   "outputs": [],
   "source": [
    "#Visualize the graph in Tensorboard here"
   ]
  },
  {
   "cell_type": "code",
   "execution_count": null,
   "metadata": {
    "collapsed": false,
    "deletable": true,
    "editable": true
   },
   "outputs": [],
   "source": [
    "# Finding the correct feeds and fetches\n",
    "ops = tf.get_default_graph().get_operations()\n",
    "#for i in ops[0:5]:\n",
    "for i in ops[0:3]:\n",
    "    print(i.name)\n",
    "    print(i.values())\n",
    "print('...')\n",
    "for i in ops[-3:]:\n",
    "    print(i.name)\n",
    "    print(i.values())\n"
   ]
  },
  {
   "cell_type": "code",
   "execution_count": null,
   "metadata": {
    "collapsed": false,
    "deletable": true,
    "editable": true
   },
   "outputs": [],
   "source": [
    "graph = tf.get_default_graph()\n",
    "image = graph.get_tensor_by_name('')#input node name here\n",
    "fetch = graph.get_tensor_by_name('deprocessing/concat:0')"
   ]
  },
  {
   "cell_type": "code",
   "execution_count": null,
   "metadata": {
    "collapsed": false,
    "deletable": true,
    "editable": true
   },
   "outputs": [],
   "source": [
    "with tf.Session() as sess:\n",
    "    t = time.time()\n",
    "    res = sess.run(fetch, feed_dict={image:content_image})\n",
    "    print(\"Transfer of {} pixels, done in {} sec\".format(content_image.shape, time.time()-t))"
   ]
  },
  {
   "cell_type": "code",
   "execution_count": null,
   "metadata": {
    "collapsed": false,
    "deletable": true,
    "editable": true
   },
   "outputs": [],
   "source": [
    "img = np.clip(res, 0, 255).astype(np.uint8)\n",
    "#plt.figure(figsize=(126,8.0))\n",
    "plt.figure()\n",
    "plt.imshow(img)"
   ]
  }
 ],
 "metadata": {
  "kernelspec": {
   "display_name": "Python 3",
   "language": "python",
   "name": "python3"
  },
  "language_info": {
   "codemirror_mode": {
    "name": "ipython",
    "version": 3
   },
   "file_extension": ".py",
   "mimetype": "text/x-python",
   "name": "python",
   "nbconvert_exporter": "python",
   "pygments_lexer": "ipython3",
   "version": "3.4.3"
  }
 },
 "nbformat": 4,
 "nbformat_minor": 1
}
